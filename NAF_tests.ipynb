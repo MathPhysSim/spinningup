{
  "nbformat": 4,
  "nbformat_minor": 0,
  "metadata": {
    "colab": {
      "name": "Copy of NAF_tests",
      "version": "0.3.2",
      "provenance": [],
      "collapsed_sections": [],
      "include_colab_link": true
    },
    "kernelspec": {
      "name": "python3",
      "display_name": "Python 3"
    },
    "accelerator": "GPU"
  },
  "cells": [
    {
      "cell_type": "markdown",
      "metadata": {
        "id": "view-in-github",
        "colab_type": "text"
      },
      "source": [
        "<a href=\"https://colab.research.google.com/github/MathPhysSim/spinningup/blob/master/NAF_tests.ipynb\" target=\"_parent\"><img src=\"https://colab.research.google.com/assets/colab-badge.svg\" alt=\"Open In Colab\"/></a>"
      ]
    },
    {
      "cell_type": "markdown",
      "metadata": {
        "id": "Y9Rm96GTCCp3",
        "colab_type": "text"
      },
      "source": [
        "Autor: Simon Hirlaender simon.hirlaender@cern.ch\n",
        "Lets mount google drive:"
      ]
    },
    {
      "cell_type": "code",
      "metadata": {
        "id": "Rr9NP4SDB9gW",
        "colab_type": "code",
        "outputId": "72f9fbf7-2413-4548-dc90-22a775660754",
        "colab": {
          "base_uri": "https://localhost:8080/",
          "height": 34
        }
      },
      "source": [
        "from google.colab import drive\n",
        "drive.mount('/content/drive')"
      ],
      "execution_count": 1,
      "outputs": [
        {
          "output_type": "stream",
          "text": [
            "Drive already mounted at /content/drive; to attempt to forcibly remount, call drive.mount(\"/content/drive\", force_remount=True).\n"
          ],
          "name": "stdout"
        }
      ]
    },
    {
      "cell_type": "code",
      "metadata": {
        "id": "Uegw_SAyCQE6",
        "colab_type": "code",
        "outputId": "5605960d-8b21-4b65-f365-2f198ddab198",
        "colab": {
          "base_uri": "https://localhost:8080/",
          "height": 34
        }
      },
      "source": [
        "import os\n",
        "dir_name = \"/content/drive/My Drive/Spinningup/\"\n",
        "if not os.path.exists(dir_name):\n",
        "    os.makedirs(dir_name)\n",
        "os.chdir(dir_name)\n",
        "os.getcwd()"
      ],
      "execution_count": 2,
      "outputs": [
        {
          "output_type": "execute_result",
          "data": {
            "text/plain": [
              "'/content/drive/My Drive/Spinningup'"
            ]
          },
          "metadata": {
            "tags": []
          },
          "execution_count": 2
        }
      ]
    },
    {
      "cell_type": "code",
      "metadata": {
        "id": "xCGwDTamCZDH",
        "colab_type": "code",
        "outputId": "33bf7d33-1bad-4f0f-f7ce-d5d751fdfa62",
        "colab": {
          "base_uri": "https://localhost:8080/",
          "height": 182
        }
      },
      "source": [
        "! if test -d my_module; then rm -R my_module; fi\n",
        "!git clone https://github.com/MathPhysSim/spinningup my_module"
      ],
      "execution_count": 3,
      "outputs": [
        {
          "output_type": "stream",
          "text": [
            "Cloning into 'my_module'...\n",
            "remote: Enumerating objects: 139, done.\u001b[K\n",
            "remote: Counting objects: 100% (139/139), done.\u001b[K\n",
            "remote: Compressing objects: 100% (91/91), done.\u001b[K\n",
            "remote: Total 1196 (delta 85), reused 98 (delta 48), pack-reused 1057\u001b[K\n",
            "Receiving objects: 100% (1196/1196), 29.54 MiB | 18.01 MiB/s, done.\n",
            "Resolving deltas: 100% (585/585), done.\n",
            "Checking out files: 100% (134/134), done.\n"
          ],
          "name": "stdout"
        }
      ]
    },
    {
      "cell_type": "code",
      "metadata": {
        "id": "6uYVvxofEo7N",
        "colab_type": "code",
        "outputId": "850c6e9c-4720-4135-df2e-5aa3c02f9f16",
        "colab": {
          "base_uri": "https://localhost:8080/",
          "height": 34
        }
      },
      "source": [
        "import sys\n",
        "sys.path.insert(0,'my_module')\n",
        "\n",
        "print(sys.path)"
      ],
      "execution_count": 4,
      "outputs": [
        {
          "output_type": "stream",
          "text": [
            "['my_module', '', '/env/python', '/usr/lib/python36.zip', '/usr/lib/python3.6', '/usr/lib/python3.6/lib-dynload', '/usr/local/lib/python3.6/dist-packages', '/usr/lib/python3/dist-packages', '/usr/local/lib/python3.6/dist-packages/IPython/extensions', '/root/.ipython']\n"
          ],
          "name": "stdout"
        }
      ]
    },
    {
      "cell_type": "code",
      "metadata": {
        "id": "bziDWY9qDcSi",
        "colab_type": "code",
        "outputId": "224f1246-2a36-484d-dbc3-8b1cab176bfa",
        "colab": {
          "base_uri": "https://localhost:8080/",
          "height": 34
        }
      },
      "source": [
        "import tensorflow as tf\n",
        "device_name = tf.test.gpu_device_name()\n",
        "if device_name != '/device:GPU:0':\n",
        "  raise SystemError('GPU device not found')\n",
        "print('Found GPU at: {}'.format(device_name))"
      ],
      "execution_count": 5,
      "outputs": [
        {
          "output_type": "stream",
          "text": [
            "Found GPU at: /device:GPU:0\n"
          ],
          "name": "stdout"
        }
      ]
    },
    {
      "cell_type": "code",
      "metadata": {
        "id": "PYmTVdelDlQf",
        "colab_type": "code",
        "outputId": "0c0f6f92-0372-408b-b704-62d3e50fb516",
        "colab": {
          "base_uri": "https://localhost:8080/",
          "height": 68
        }
      },
      "source": [
        "import gym\n",
        "import tensorflow as tf\n",
        "from spinup.algos.ddpg.ddpg import ddpg\n",
        "\n",
        "from spinup.utils.run_utils import ExperimentGrid\n",
        "\n",
        "import spinup\n",
        "from spinup.algos.naf.naf import naf\n",
        "\n",
        "env_fn = lambda : gym.make('Pendulum-v0')"
      ],
      "execution_count": 6,
      "outputs": [
        {
          "output_type": "stream",
          "text": [
            "WARNING: Logging before flag parsing goes to stderr.\n",
            "W0827 16:11:39.582343 140599311042432 deprecation_wrapper.py:119] From my_module/spinup/utils/mpi_tf.py:29: The name tf.train.AdamOptimizer is deprecated. Please use tf.compat.v1.train.AdamOptimizer instead.\n",
            "\n"
          ],
          "name": "stderr"
        }
      ]
    },
    {
      "cell_type": "code",
      "metadata": {
        "id": "0qCa4N5SnuiC",
        "colab_type": "code",
        "colab": {
          "base_uri": "https://localhost:8080/",
          "height": 51
        },
        "outputId": "ba613e4b-d511-4cb2-b15f-2993db9d4079"
      },
      "source": [
        "import Environments.transportEnvOld as transport\n",
        "\n",
        "env = transport.transportENV()\n",
        "\n",
        "env_fn = lambda: env"
      ],
      "execution_count": 7,
      "outputs": [
        {
          "output_type": "stream",
          "text": [
            "/usr/local/lib/python3.6/dist-packages/gym/logger.py:30: UserWarning: \u001b[33mWARN: gym.spaces.Box autodetected dtype as <class 'numpy.float32'>. Please provide explicit dtype.\u001b[0m\n",
            "  warnings.warn(colorize('%s: %s'%('WARN', msg % args), 'yellow'))\n"
          ],
          "name": "stderr"
        }
      ]
    },
    {
      "cell_type": "code",
      "metadata": {
        "id": "wGkdOCckay2t",
        "colab_type": "code",
        "outputId": "290f821b-46ef-4771-f4ae-4b910dd6a247",
        "colab": {
          "base_uri": "https://localhost:8080/",
          "height": 1000
        }
      },
      "source": [
        "import Environments.transport_enviroment as transport\n",
        "import tensorflow as tf\n",
        "from spinup.algos.ddpg.ddpg import ddpg\n",
        "from spinup.algos.ppo.ppo import ppo\n",
        "from spinup.algos.td3.td3 import td3\n",
        "from spinup.utils.run_utils import ExperimentGrid\n",
        "import pandas as pd\n",
        "import matplotlib.pyplot as plt\n",
        "\n",
        "from spinup.algos.naf.naf import naf\n",
        "\n",
        "env = transport.transportENV()\n",
        "# env_fn = lambda : gym.make('Pendulum-v0')\n",
        "\n",
        "env_fn = lambda: env\n",
        "\n",
        "# if __name__ == '__main__':\n",
        "#\n",
        "#     eg = ExperimentGrid(name='twiss-bench')\n",
        "#     eg.add('env_fn', env_fn, '', True)\n",
        "#     eg.add('seed', [10 * i for i in range(2)])\n",
        "#     eg.add('epochs', 25)\n",
        "#     eg.add('steps_per_epoch', 1000)\n",
        "#     eg.add('start_steps', 100)\n",
        "#     eg.add('ac_kwargs:hidden_sizes', [(400, 300)], 'hid')\n",
        "#     eg.add('ac_kwargs:activation', [tf.nn.relu], '')\n",
        "#     eg.run(ddpg, num_cpu=4, data_dir='logging/DDPG')\n",
        "\n",
        "\n",
        "output_dir = 'logging/TD3'\n",
        "logger_kwargs = dict(output_dir=output_dir, exp_name='twiss')\n",
        "\n",
        "tf.reset_default_graph()\n",
        "\n",
        "agent = td3(env_fn=env_fn, epochs=100, steps_per_epoch=1000, \n",
        "            logger_kwargs=logger_kwargs)\n",
        "\n",
        "\n",
        "plot_name = 'Stats'\n",
        "name = plot_name\n",
        "data = pd.read_csv(output_dir+'/progress.txt', sep=\"\\t\")\n",
        "\n",
        "data.index = data['TotalEnvInteracts']\n",
        "data_plot= data[['EpLen', 'MinEpRet', 'AverageEpRet']]\n",
        "data_plot.plot(secondary_y=['MinEpRet', 'AverageEpRet'])\n",
        "\n",
        "plt.title(name)\n",
        "# plt.savefig(name + '.pdf')\n",
        "plt.show()"
      ],
      "execution_count": 0,
      "outputs": [
        {
          "output_type": "stream",
          "text": [
            "Warning: Log dir logging/TD3 already exists! Storing info there anyway.\n",
            "\u001b[32;1mLogging data to logging/TD3/progress.txt\u001b[0m\n",
            "\u001b[36;1mSaving config:\n",
            "\u001b[0m\n",
            "{\n",
            "    \"ac_kwargs\":\t{},\n",
            "    \"act_noise\":\t0.1,\n",
            "    \"actor_critic\":\t\"mlp_actor_critic\",\n",
            "    \"batch_size\":\t100,\n",
            "    \"env_fn\":\t\"<function <lambda> at 0x7fdfb05f16a8>\",\n",
            "    \"epochs\":\t100,\n",
            "    \"exp_name\":\t\"twiss\",\n",
            "    \"gamma\":\t0.99,\n",
            "    \"logger\":\t{\n",
            "        \"<spinup.utils.logx.EpochLogger object at 0x7fdf1edef390>\":\t{\n",
            "            \"epoch_dict\":\t{},\n",
            "            \"exp_name\":\t\"twiss\",\n",
            "            \"first_row\":\ttrue,\n",
            "            \"log_current_row\":\t{},\n",
            "            \"log_headers\":\t[],\n",
            "            \"output_dir\":\t\"logging/TD3\",\n",
            "            \"output_file\":\t{\n",
            "                \"<_io.TextIOWrapper name='logging/TD3/progress.txt' mode='w' encoding='UTF-8'>\":\t{\n",
            "                    \"mode\":\t\"w\"\n",
            "                }\n",
            "            }\n",
            "        }\n",
            "    },\n",
            "    \"logger_kwargs\":\t{\n",
            "        \"exp_name\":\t\"twiss\",\n",
            "        \"output_dir\":\t\"logging/TD3\"\n",
            "    },\n",
            "    \"max_ep_len\":\t1000,\n",
            "    \"noise_clip\":\t0.5,\n",
            "    \"pi_lr\":\t0.001,\n",
            "    \"policy_delay\":\t2,\n",
            "    \"polyak\":\t0.995,\n",
            "    \"q_lr\":\t0.001,\n",
            "    \"replay_size\":\t1000000,\n",
            "    \"save_freq\":\t1,\n",
            "    \"seed\":\t0,\n",
            "    \"start_steps\":\t10000,\n",
            "    \"steps_per_epoch\":\t1000,\n",
            "    \"target_noise\":\t0.2\n",
            "}\n"
          ],
          "name": "stdout"
        },
        {
          "output_type": "stream",
          "text": [
            "W0827 16:11:41.934522 140599311042432 deprecation_wrapper.py:119] From my_module/spinup/algos/td3/td3.py:133: The name tf.set_random_seed is deprecated. Please use tf.compat.v1.set_random_seed instead.\n",
            "\n",
            "W0827 16:11:41.936714 140599311042432 deprecation_wrapper.py:119] From my_module/spinup/algos/td3/core.py:6: The name tf.placeholder is deprecated. Please use tf.compat.v1.placeholder instead.\n",
            "\n",
            "W0827 16:11:41.950835 140599311042432 deprecation_wrapper.py:119] From my_module/spinup/algos/td3/td3.py:150: The name tf.variable_scope is deprecated. Please use tf.compat.v1.variable_scope instead.\n",
            "\n",
            "W0827 16:11:41.952606 140599311042432 deprecation.py:323] From my_module/spinup/algos/td3/core.py:13: dense (from tensorflow.python.layers.core) is deprecated and will be removed in a future version.\n",
            "Instructions for updating:\n",
            "Use keras.layers.dense instead.\n",
            "W0827 16:11:41.967415 140599311042432 deprecation.py:506] From /usr/local/lib/python3.6/dist-packages/tensorflow/python/ops/init_ops.py:1251: calling VarianceScaling.__init__ (from tensorflow.python.ops.init_ops) with dtype is deprecated and will be removed in a future version.\n",
            "Instructions for updating:\n",
            "Call initializer instance with the dtype argument instead of passing it to the constructor\n",
            "W0827 16:11:42.718611 140599311042432 deprecation_wrapper.py:119] From my_module/spinup/algos/td3/td3.py:161: The name tf.random_normal is deprecated. Please use tf.random.normal instead.\n",
            "\n",
            "W0827 16:11:42.825464 140599311042432 deprecation_wrapper.py:119] From my_module/spinup/algos/td3/core.py:17: The name tf.global_variables is deprecated. Please use tf.compat.v1.global_variables instead.\n",
            "\n"
          ],
          "name": "stderr"
        },
        {
          "output_type": "stream",
          "text": [
            "\n",
            "Number of parameters: \t pi: 122102, \t q1: 122601, \t q2: 122601, \t total: 367304\n",
            "\n"
          ],
          "name": "stdout"
        },
        {
          "output_type": "stream",
          "text": [
            "W0827 16:11:43.070915 140599311042432 deprecation.py:323] From /usr/local/lib/python3.6/dist-packages/tensorflow/python/ops/math_grad.py:1205: add_dispatch_support.<locals>.wrapper (from tensorflow.python.ops.array_ops) is deprecated and will be removed in a future version.\n",
            "Instructions for updating:\n",
            "Use tf.where in 2.0, which has the same broadcast rule as np.where\n",
            "W0827 16:11:52.985514 140599311042432 deprecation.py:323] From my_module/spinup/utils/logx.py:226: simple_save (from tensorflow.python.saved_model.simple_save) is deprecated and will be removed in a future version.\n",
            "Instructions for updating:\n",
            "This function will only be available through the v1 compatibility library as tf.compat.v1.saved_model.simple_save.\n",
            "W0827 16:11:52.989172 140599311042432 deprecation.py:323] From /usr/local/lib/python3.6/dist-packages/tensorflow/python/saved_model/signature_def_utils_impl.py:201: build_tensor_info (from tensorflow.python.saved_model.utils_impl) is deprecated and will be removed in a future version.\n",
            "Instructions for updating:\n",
            "This function will only be available through the v1 compatibility library as tf.compat.v1.saved_model.utils.build_tensor_info or tf.compat.v1.saved_model.build_tensor_info.\n"
          ],
          "name": "stderr"
        },
        {
          "output_type": "stream",
          "text": [
            "---------------------------------------\n",
            "|             Epoch |               1 |\n",
            "|      AverageEpRet |           -1.69 |\n",
            "|          StdEpRet |            9.54 |\n",
            "|          MaxEpRet |              10 |\n",
            "|          MinEpRet |           -10.1 |\n",
            "|  AverageTestEpRet |           -0.16 |\n",
            "|      StdTestEpRet |            9.94 |\n",
            "|      MaxTestEpRet |              10 |\n",
            "|      MinTestEpRet |           -10.1 |\n",
            "|             EpLen |            61.1 |\n",
            "|         TestEpLen |            52.1 |\n",
            "| TotalEnvInteracts |           1e+03 |\n",
            "|     AverageQ1Vals |          0.0556 |\n",
            "|         StdQ1Vals |           0.177 |\n",
            "|         MaxQ1Vals |            1.01 |\n",
            "|         MinQ1Vals |          -0.203 |\n",
            "|     AverageQ2Vals |          0.0538 |\n",
            "|         StdQ2Vals |           0.172 |\n",
            "|         MaxQ2Vals |            1.02 |\n",
            "|         MinQ2Vals |          -0.212 |\n",
            "|            LossPi |         -0.0416 |\n",
            "|             LossQ |            1.29 |\n",
            "|              Time |            8.21 |\n",
            "---------------------------------------\n",
            "---------------------------------------\n",
            "|             Epoch |               2 |\n",
            "|      AverageEpRet |            1.28 |\n",
            "|          StdEpRet |            9.26 |\n",
            "|          MaxEpRet |             9.9 |\n",
            "|          MinEpRet |           -10.1 |\n",
            "|  AverageTestEpRet |           -2.15 |\n",
            "|      StdTestEpRet |            9.74 |\n",
            "|      MaxTestEpRet |              10 |\n",
            "|      MinTestEpRet |           -10.1 |\n",
            "|             EpLen |            44.9 |\n",
            "|         TestEpLen |            61.9 |\n",
            "| TotalEnvInteracts |           2e+03 |\n",
            "|     AverageQ1Vals |          0.0919 |\n",
            "|         StdQ1Vals |           0.306 |\n",
            "|         MaxQ1Vals |            1.52 |\n",
            "|         MinQ1Vals |          -0.351 |\n",
            "|     AverageQ2Vals |          0.0921 |\n",
            "|         StdQ2Vals |           0.306 |\n",
            "|         MaxQ2Vals |            1.53 |\n",
            "|         MinQ2Vals |          -0.392 |\n",
            "|            LossPi |         -0.0916 |\n",
            "|             LossQ |            1.17 |\n",
            "|              Time |            14.5 |\n",
            "---------------------------------------\n",
            "---------------------------------------\n",
            "|             Epoch |               3 |\n",
            "|      AverageEpRet |            2.49 |\n",
            "|          StdEpRet |            9.03 |\n",
            "|          MaxEpRet |              10 |\n",
            "|          MinEpRet |           -10.1 |\n",
            "|  AverageTestEpRet |           -0.27 |\n",
            "|      StdTestEpRet |            9.83 |\n",
            "|      MaxTestEpRet |              10 |\n",
            "|      MinTestEpRet |           -10.1 |\n",
            "|             EpLen |            42.4 |\n",
            "|         TestEpLen |            53.2 |\n",
            "| TotalEnvInteracts |           3e+03 |\n",
            "|     AverageQ1Vals |          0.0755 |\n",
            "|         StdQ1Vals |            0.42 |\n",
            "|         MaxQ1Vals |            1.63 |\n",
            "|         MinQ1Vals |          -0.484 |\n",
            "|     AverageQ2Vals |          0.0759 |\n",
            "|         StdQ2Vals |            0.42 |\n",
            "|         MaxQ2Vals |            1.64 |\n",
            "|         MinQ2Vals |          -0.561 |\n",
            "|            LossPi |         -0.0736 |\n",
            "|             LossQ |            2.06 |\n",
            "|              Time |              21 |\n",
            "---------------------------------------\n",
            "---------------------------------------\n",
            "|             Epoch |               4 |\n",
            "|      AverageEpRet |            0.68 |\n",
            "|          StdEpRet |            9.41 |\n",
            "|          MaxEpRet |              10 |\n",
            "|          MinEpRet |           -10.1 |\n",
            "|  AverageTestEpRet |            3.69 |\n",
            "|      StdTestEpRet |            9.03 |\n",
            "|      MaxTestEpRet |             9.8 |\n",
            "|      MinTestEpRet |           -10.1 |\n",
            "|             EpLen |            48.8 |\n",
            "|         TestEpLen |            33.8 |\n",
            "| TotalEnvInteracts |           4e+03 |\n",
            "|     AverageQ1Vals |         -0.0961 |\n",
            "|         StdQ1Vals |           0.362 |\n",
            "|         MaxQ1Vals |            1.66 |\n",
            "|         MinQ1Vals |           -3.11 |\n",
            "|     AverageQ2Vals |         -0.0963 |\n",
            "|         StdQ2Vals |           0.352 |\n",
            "|         MaxQ2Vals |            1.39 |\n",
            "|         MinQ2Vals |           -3.19 |\n",
            "|            LossPi |          0.0961 |\n",
            "|             LossQ |             2.4 |\n",
            "|              Time |            27.4 |\n",
            "---------------------------------------\n",
            "---------------------------------------\n",
            "|             Epoch |               5 |\n",
            "|      AverageEpRet |           -2.08 |\n",
            "|          StdEpRet |            9.29 |\n",
            "|          MaxEpRet |             9.9 |\n",
            "|          MinEpRet |           -10.1 |\n",
            "|  AverageTestEpRet |            1.83 |\n",
            "|      StdTestEpRet |            9.74 |\n",
            "|      MaxTestEpRet |             9.9 |\n",
            "|      MinTestEpRet |           -10.1 |\n",
            "|             EpLen |              65 |\n",
            "|         TestEpLen |            42.3 |\n",
            "| TotalEnvInteracts |           5e+03 |\n",
            "|     AverageQ1Vals |           -0.24 |\n",
            "|         StdQ1Vals |           0.574 |\n",
            "|         MaxQ1Vals |            1.91 |\n",
            "|         MinQ1Vals |           -5.24 |\n",
            "|     AverageQ2Vals |          -0.236 |\n",
            "|         StdQ2Vals |           0.583 |\n",
            "|         MaxQ2Vals |             1.8 |\n",
            "|         MinQ2Vals |           -5.33 |\n",
            "|            LossPi |           0.238 |\n",
            "|             LossQ |            2.44 |\n",
            "|              Time |              34 |\n",
            "---------------------------------------\n",
            "---------------------------------------\n",
            "|             Epoch |               6 |\n",
            "|      AverageEpRet |             3.2 |\n",
            "|          StdEpRet |            8.81 |\n",
            "|          MaxEpRet |              10 |\n",
            "|          MinEpRet |           -10.1 |\n",
            "|  AverageTestEpRet |            1.78 |\n",
            "|      StdTestEpRet |             9.7 |\n",
            "|      MaxTestEpRet |              10 |\n",
            "|      MinTestEpRet |           -10.1 |\n",
            "|             EpLen |            36.5 |\n",
            "|         TestEpLen |            42.8 |\n",
            "| TotalEnvInteracts |           6e+03 |\n",
            "|     AverageQ1Vals |          -0.218 |\n",
            "|         StdQ1Vals |           0.698 |\n",
            "|         MaxQ1Vals |            1.74 |\n",
            "|         MinQ1Vals |           -5.54 |\n",
            "|     AverageQ2Vals |          -0.217 |\n",
            "|         StdQ2Vals |           0.706 |\n",
            "|         MaxQ2Vals |            2.17 |\n",
            "|         MinQ2Vals |           -5.83 |\n",
            "|            LossPi |           0.215 |\n",
            "|             LossQ |            2.29 |\n",
            "|              Time |            40.6 |\n",
            "---------------------------------------\n",
            "---------------------------------------\n",
            "|             Epoch |               7 |\n",
            "|      AverageEpRet |           0.342 |\n",
            "|          StdEpRet |            9.27 |\n",
            "|          MaxEpRet |              10 |\n",
            "|          MinEpRet |           -10.1 |\n",
            "|  AverageTestEpRet |           -2.14 |\n",
            "|      StdTestEpRet |            9.75 |\n",
            "|      MaxTestEpRet |              10 |\n",
            "|      MinTestEpRet |           -10.1 |\n",
            "|             EpLen |            49.7 |\n",
            "|         TestEpLen |            61.8 |\n",
            "| TotalEnvInteracts |           7e+03 |\n",
            "|     AverageQ1Vals |          -0.167 |\n",
            "|         StdQ1Vals |           0.768 |\n",
            "|         MaxQ1Vals |            2.29 |\n",
            "|         MinQ1Vals |           -5.66 |\n",
            "|     AverageQ2Vals |          -0.166 |\n",
            "|         StdQ2Vals |           0.773 |\n",
            "|         MaxQ2Vals |            2.31 |\n",
            "|         MinQ2Vals |           -5.98 |\n",
            "|            LossPi |          0.0462 |\n",
            "|             LossQ |            2.38 |\n",
            "|              Time |              47 |\n",
            "---------------------------------------\n",
            "---------------------------------------\n",
            "|             Epoch |               8 |\n",
            "|      AverageEpRet |           -1.34 |\n",
            "|          StdEpRet |            9.58 |\n",
            "|          MaxEpRet |              10 |\n",
            "|          MinEpRet |           -10.1 |\n",
            "|  AverageTestEpRet |            -4.2 |\n",
            "|      StdTestEpRet |            9.01 |\n",
            "|      MaxTestEpRet |             9.7 |\n",
            "|      MinTestEpRet |           -10.1 |\n",
            "|             EpLen |            58.3 |\n",
            "|         TestEpLen |            72.3 |\n",
            "| TotalEnvInteracts |           8e+03 |\n",
            "|     AverageQ1Vals |          -0.074 |\n",
            "|         StdQ1Vals |           0.722 |\n",
            "|         MaxQ1Vals |             2.7 |\n",
            "|         MinQ1Vals |           -4.52 |\n",
            "|     AverageQ2Vals |         -0.0743 |\n",
            "|         StdQ2Vals |           0.724 |\n",
            "|         MaxQ2Vals |            3.01 |\n",
            "|         MinQ2Vals |           -4.74 |\n",
            "|            LossPi |          -0.119 |\n",
            "|             LossQ |            2.07 |\n",
            "|              Time |            54.1 |\n",
            "---------------------------------------\n"
          ],
          "name": "stdout"
        }
      ]
    },
    {
      "cell_type": "code",
      "metadata": {
        "id": "lt1Uhm_Zn07U",
        "colab_type": "code",
        "colab": {}
      },
      "source": [
        "tf.reset_default_graph()\n",
        "ddpg(env_fn=env_fn,  steps_per_epoch=1000, epochs=100, gamma=0.999, start_steps=5000)"
      ],
      "execution_count": 0,
      "outputs": []
    },
    {
      "cell_type": "code",
      "metadata": {
        "id": "Sc17-d0VG5fe",
        "colab_type": "code",
        "colab": {}
      },
      "source": [
        "ac_kwargs = dict(hidden_sizes=[400, 300], activation=tf.nn.relu)\n",
        "logger_kwargs = dict(output_dir='logging/NAF', exp_name='naf - tests')\n",
        "\n",
        "steps_per_epoch = 200\n",
        "epochs = 5\n",
        "start_steps = 100\n",
        "algorithm = 'naf'"
      ],
      "execution_count": 0,
      "outputs": []
    },
    {
      "cell_type": "code",
      "metadata": {
        "id": "qeHW1lBoFJ-D",
        "colab_type": "code",
        "colab": {}
      },
      "source": [
        "tf.reset_default_graph()\n",
        "naf(env_fn=env_fn, ac_kwargs=ac_kwargs, steps_per_epoch=steps_per_epoch, epochs=epochs, logger_kwargs=logger_kwargs)"
      ],
      "execution_count": 0,
      "outputs": []
    },
    {
      "cell_type": "code",
      "metadata": {
        "id": "qMEyvw69D7fu",
        "colab_type": "code",
        "colab": {}
      },
      "source": [
        "eg = ExperimentGrid(name='naf-bench-long')\n",
        "eg.add('env_name', 'Pendulum-v0', '', True)\n",
        "eg.add('seed', [10 * i for i in range(4)])\n",
        "eg.add('epochs', 50)\n",
        "eg.add('steps_per_epoch', 200)\n",
        "#eg.add('ac_kwargs:hidden_sizes', [(100, 100)], 'hid')\n",
        "eg.add('ac_kwargs:activation', [tf.nn.relu], '')\n",
        "eg.run(naf, data_dir='logging/NAF')"
      ],
      "execution_count": 0,
      "outputs": []
    },
    {
      "cell_type": "code",
      "metadata": {
        "id": "YFcAh1AXW5ja",
        "colab_type": "code",
        "colab": {}
      },
      "source": [
        ""
      ],
      "execution_count": 0,
      "outputs": []
    }
  ]
}